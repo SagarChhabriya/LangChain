{
 "cells": [
  {
   "cell_type": "code",
   "execution_count": 63,
   "id": "e2f701e9",
   "metadata": {},
   "outputs": [],
   "source": [
    "from sentence_transformers import  SentenceTransformer\n",
    "from langchain.embeddings import  HuggingFaceBgeEmbeddings\n",
    "from langchain.schema import Document\n",
    "from langchain.vectorstores import  Chroma"
   ]
  },
  {
   "cell_type": "markdown",
   "id": "d45f9968",
   "metadata": {},
   "source": [
    "1. Initialize model"
   ]
  },
  {
   "cell_type": "code",
   "execution_count": 57,
   "id": "de36b8e9",
   "metadata": {},
   "outputs": [],
   "source": [
    "embedding_model = HuggingFaceEmbeddings(model_name=\"BAAI/bge-small-en-v1.5\")"
   ]
  },
  {
   "cell_type": "markdown",
   "id": "33cb0520",
   "metadata": {},
   "source": [
    "2. Create LangChain Docs"
   ]
  },
  {
   "cell_type": "code",
   "execution_count": 58,
   "id": "b0594b74",
   "metadata": {},
   "outputs": [],
   "source": [
    "# Create LangChain documents for famous scientists\n",
    "\n",
    "doc1 = Document(\n",
    "    page_content=\"Albert Einstein revolutionized modern physics with his theory of relativity. His work reshaped our understanding of space, time, and gravity.\",\n",
    "    metadata={\"field\": \"Theoretical Physics\"}\n",
    ")\n",
    "\n",
    "doc2 = Document(\n",
    "    page_content=\"Marie Curie was a pioneering physicist and chemist who conducted groundbreaking research on radioactivity. She was the first woman to win a Nobel Prize and the only person to win in two scientific fields.\",\n",
    "    metadata={\"field\": \"Chemistry\"}\n",
    ")\n",
    "\n",
    "doc3 = Document(\n",
    "    page_content=\"Isaac Newton formulated the laws of motion and universal gravitation, laying the foundation for classical mechanics. His work remained unchallenged for centuries.\",\n",
    "    metadata={\"field\": \"Classical Physics\"}\n",
    ")\n",
    "\n",
    "doc4 = Document(\n",
    "    page_content=\"Rosalind Franklin's work with X-ray diffraction was crucial in the discovery of DNA’s double-helix structure. Her research played a pivotal role in molecular biology.\",\n",
    "    metadata={\"field\": \"Molecular Biology\"}\n",
    ")\n",
    "\n",
    "doc5 = Document(\n",
    "    page_content=\"Alan Turing is considered the father of computer science. His conceptualization of the Turing Machine laid the groundwork for modern computing.\",\n",
    "    metadata={\"field\": \"Computer Science\"}\n",
    ")\n",
    "\n",
    "docs = [doc1, doc2,doc3, doc4,doc5]"
   ]
  },
  {
   "cell_type": "markdown",
   "id": "ca742406",
   "metadata": {},
   "source": [
    "3. Create Vector Store"
   ]
  },
  {
   "cell_type": "code",
   "execution_count": 67,
   "id": "14cbaf43",
   "metadata": {},
   "outputs": [],
   "source": [
    "chroma_store = Chroma(embedding_function=embedding_model,persist_directory=\"my_chroma_db\",collection_name=\"sample\")"
   ]
  },
  {
   "cell_type": "markdown",
   "id": "f2d8885b",
   "metadata": {},
   "source": [
    "4. Add documents"
   ]
  },
  {
   "cell_type": "code",
   "execution_count": 68,
   "id": "dc5dc116",
   "metadata": {},
   "outputs": [
    {
     "data": {
      "text/plain": [
       "['84d65304-6849-4c72-bb67-517dbcfffcea',\n",
       " '869ae007-1164-4c8e-a281-385a9d6024f1',\n",
       " '7d196e50-9644-4605-9fdd-84b53f12b44d',\n",
       " '3dc9c8ab-8f60-47bc-a618-dfacf78c187a',\n",
       " 'cb0d6f59-79f0-4af7-8d2e-8e125e101c9a']"
      ]
     },
     "execution_count": 68,
     "metadata": {},
     "output_type": "execute_result"
    }
   ],
   "source": [
    "chroma_store.add_documents(docs)"
   ]
  },
  {
   "cell_type": "markdown",
   "id": "208246a5",
   "metadata": {},
   "source": [
    "5. View documents"
   ]
  },
  {
   "cell_type": "code",
   "execution_count": 69,
   "id": "0a1d02cb",
   "metadata": {},
   "outputs": [
    {
     "data": {
      "text/plain": [
       "{'ids': ['84d65304-6849-4c72-bb67-517dbcfffcea',\n",
       "  '869ae007-1164-4c8e-a281-385a9d6024f1',\n",
       "  '7d196e50-9644-4605-9fdd-84b53f12b44d',\n",
       "  '3dc9c8ab-8f60-47bc-a618-dfacf78c187a',\n",
       "  'cb0d6f59-79f0-4af7-8d2e-8e125e101c9a'],\n",
       " 'embeddings': None,\n",
       " 'documents': ['Albert Einstein revolutionized modern physics with his theory of relativity. His work reshaped our understanding of space, time, and gravity.',\n",
       "  'Marie Curie was a pioneering physicist and chemist who conducted groundbreaking research on radioactivity. She was the first woman to win a Nobel Prize and the only person to win in two scientific fields.',\n",
       "  'Isaac Newton formulated the laws of motion and universal gravitation, laying the foundation for classical mechanics. His work remained unchallenged for centuries.',\n",
       "  \"Rosalind Franklin's work with X-ray diffraction was crucial in the discovery of DNA’s double-helix structure. Her research played a pivotal role in molecular biology.\",\n",
       "  'Alan Turing is considered the father of computer science. His conceptualization of the Turing Machine laid the groundwork for modern computing.'],\n",
       " 'uris': None,\n",
       " 'included': ['metadatas', 'documents'],\n",
       " 'data': None,\n",
       " 'metadatas': [{'field': 'Theoretical Physics'},\n",
       "  {'field': 'Chemistry'},\n",
       "  {'field': 'Classical Physics'},\n",
       "  {'field': 'Molecular Biology'},\n",
       "  {'field': 'Computer Science'}]}"
      ]
     },
     "execution_count": 69,
     "metadata": {},
     "output_type": "execute_result"
    }
   ],
   "source": [
    "chroma_store.get()"
   ]
  },
  {
   "cell_type": "code",
   "execution_count": 73,
   "id": "e6d31dec",
   "metadata": {},
   "outputs": [
    {
     "data": {
      "text/plain": [
       "{'ids': ['84d65304-6849-4c72-bb67-517dbcfffcea',\n",
       "  '869ae007-1164-4c8e-a281-385a9d6024f1',\n",
       "  '7d196e50-9644-4605-9fdd-84b53f12b44d',\n",
       "  '3dc9c8ab-8f60-47bc-a618-dfacf78c187a',\n",
       "  'cb0d6f59-79f0-4af7-8d2e-8e125e101c9a'],\n",
       " 'embeddings': array([[-0.02001567,  0.01622077,  0.00762864, ...,  0.01686271,\n",
       "         -0.010849  ,  0.01430714],\n",
       "        [ 0.02898663,  0.07278389, -0.04395222, ...,  0.00076877,\n",
       "          0.0473913 ,  0.01202501],\n",
       "        [-0.03170357, -0.00321356,  0.00682998, ...,  0.01349299,\n",
       "          0.03732628,  0.01961987],\n",
       "        [-0.03042426,  0.03763274,  0.02568983, ..., -0.04152735,\n",
       "          0.08620185,  0.04503268],\n",
       "        [-0.02015273,  0.02899581, -0.0149154 , ...,  0.05353099,\n",
       "          0.06611942, -0.00489779]], shape=(5, 384)),\n",
       " 'documents': ['Albert Einstein revolutionized modern physics with his theory of relativity. His work reshaped our understanding of space, time, and gravity.',\n",
       "  'Marie Curie was a pioneering physicist and chemist who conducted groundbreaking research on radioactivity. She was the first woman to win a Nobel Prize and the only person to win in two scientific fields.',\n",
       "  'Isaac Newton formulated the laws of motion and universal gravitation, laying the foundation for classical mechanics. His work remained unchallenged for centuries.',\n",
       "  \"Rosalind Franklin's work with X-ray diffraction was crucial in the discovery of DNA’s double-helix structure. Her research played a pivotal role in molecular biology.\",\n",
       "  'Alan Turing is considered the father of computer science. His conceptualization of the Turing Machine laid the groundwork for modern computing.'],\n",
       " 'uris': None,\n",
       " 'included': ['embeddings', 'metadatas', 'documents'],\n",
       " 'data': None,\n",
       " 'metadatas': [{'field': 'Theoretical Physics'},\n",
       "  {'field': 'Chemistry'},\n",
       "  {'field': 'Classical Physics'},\n",
       "  {'field': 'Molecular Biology'},\n",
       "  {'field': 'Computer Science'}]}"
      ]
     },
     "execution_count": 73,
     "metadata": {},
     "output_type": "execute_result"
    }
   ],
   "source": [
    "chroma_store.get(include=[\"embeddings\",\"metadatas\", \"documents\"])"
   ]
  },
  {
   "cell_type": "markdown",
   "id": "ee3983c0",
   "metadata": {},
   "source": [
    "6. Search documents"
   ]
  },
  {
   "cell_type": "code",
   "execution_count": 74,
   "id": "9916735e",
   "metadata": {},
   "outputs": [
    {
     "data": {
      "text/plain": [
       "[Document(metadata={'field': 'Computer Science'}, page_content='Alan Turing is considered the father of computer science. His conceptualization of the Turing Machine laid the groundwork for modern computing.'),\n",
       " Document(metadata={'field': 'Molecular Biology'}, page_content=\"Rosalind Franklin's work with X-ray diffraction was crucial in the discovery of DNA’s double-helix structure. Her research played a pivotal role in molecular biology.\")]"
      ]
     },
     "execution_count": 74,
     "metadata": {},
     "output_type": "execute_result"
    }
   ],
   "source": [
    "chroma_store.similarity_search(query=\"Computer Science\", k=2)"
   ]
  },
  {
   "cell_type": "markdown",
   "id": "b4c48b22",
   "metadata": {},
   "source": [
    "7. Search with similarity score"
   ]
  },
  {
   "cell_type": "code",
   "execution_count": 75,
   "id": "6b7eafd2",
   "metadata": {},
   "outputs": [
    {
     "data": {
      "text/plain": [
       "[(Document(metadata={'field': 'Computer Science'}, page_content='Alan Turing is considered the father of computer science. His conceptualization of the Turing Machine laid the groundwork for modern computing.'),\n",
       "  0.5494447350502014),\n",
       " (Document(metadata={'field': 'Molecular Biology'}, page_content=\"Rosalind Franklin's work with X-ray diffraction was crucial in the discovery of DNA’s double-helix structure. Her research played a pivotal role in molecular biology.\"),\n",
       "  0.9420791268348694)]"
      ]
     },
     "execution_count": 75,
     "metadata": {},
     "output_type": "execute_result"
    }
   ],
   "source": [
    "chroma_store.similarity_search_with_score(query=\"computer science\", k=2)"
   ]
  },
  {
   "cell_type": "markdown",
   "id": "6c36a440",
   "metadata": {},
   "source": [
    "8. Metadata filtering"
   ]
  },
  {
   "cell_type": "code",
   "execution_count": 77,
   "id": "cced8763",
   "metadata": {},
   "outputs": [
    {
     "data": {
      "text/plain": [
       "[(Document(metadata={'field': 'Computer Science'}, page_content='Alan Turing is considered the father of computer science. His conceptualization of the Turing Machine laid the groundwork for modern computing.'),\n",
       "  1.1870946884155273)]"
      ]
     },
     "execution_count": 77,
     "metadata": {},
     "output_type": "execute_result"
    }
   ],
   "source": [
    "chroma_store.similarity_search_with_score(\n",
    "    query=\"\",\n",
    "    filter={\"field\":\"Computer Science\"}\n",
    ")"
   ]
  },
  {
   "cell_type": "markdown",
   "id": "f5c9b071",
   "metadata": {},
   "source": [
    "9. Delete + Update"
   ]
  },
  {
   "cell_type": "code",
   "execution_count": 78,
   "id": "8805f56b",
   "metadata": {},
   "outputs": [
    {
     "name": "stdout",
     "output_type": "stream",
     "text": [
      "After update:\n",
      "Alan Turing is considered the father of computer science. His conceptualization of the Turing Machine laid the groundwork for modern computing.\n",
      "Alan Turing is considered the father of computer science. His conceptualization of the Turing Machine laid the groundwork for modern computing.\n",
      "Alan Turing is considered the father of computer science. His conceptualization of the Turing Machine laid the groundwork for modern computing.\n",
      "Alan Turing laid the foundation of modern AI and computer science with his work during WWII.\n",
      "Albert Einstein revolutionized modern physics with his theory of relativity. His work reshaped our understanding of space, time, and gravity.\n"
     ]
    }
   ],
   "source": [
    "\n",
    "# Step 1: Delete the old one\n",
    "vector_store_chroma._collection.delete(where={\"scientist\": \"Turing\"})\n",
    "\n",
    "# Step 2: Add the updated one\n",
    "updated_doc = Document(\n",
    "    page_content=\"Alan Turing laid the foundation of modern AI and computer science with his work during WWII.\",\n",
    "    metadata={\"field\": \"Computer Science\", \"scientist\": \"Turing\"}\n",
    ")\n",
    "vector_store_chroma.add_documents([updated_doc])\n",
    "\n",
    "# Step 3: View all docs again\n",
    "print(\"After update:\")\n",
    "for doc in vector_store_chroma.similarity_search(\"computer\", k=5):\n",
    "    print(doc.page_content)\n"
   ]
  },
  {
   "cell_type": "markdown",
   "id": "5c442eaf",
   "metadata": {},
   "source": [
    "10. Delete doc"
   ]
  },
  {
   "cell_type": "code",
   "execution_count": 80,
   "id": "ac6f37cb",
   "metadata": {},
   "outputs": [],
   "source": [
    "chroma_store.delete('84d65304-6849-4c72-bb67-517dbcfffcea')\n",
    "# chroma_store.delete(ids=['84d65304-6849-4c72-bb67-517dbcfffcea'])"
   ]
  },
  {
   "cell_type": "code",
   "execution_count": 82,
   "id": "e732d667",
   "metadata": {},
   "outputs": [
    {
     "data": {
      "text/plain": [
       "{'ids': ['869ae007-1164-4c8e-a281-385a9d6024f1',\n",
       "  '7d196e50-9644-4605-9fdd-84b53f12b44d',\n",
       "  '3dc9c8ab-8f60-47bc-a618-dfacf78c187a',\n",
       "  'cb0d6f59-79f0-4af7-8d2e-8e125e101c9a'],\n",
       " 'embeddings': array([[ 0.02898663,  0.07278389, -0.04395222, ...,  0.00076877,\n",
       "          0.0473913 ,  0.01202501],\n",
       "        [-0.03170357, -0.00321356,  0.00682998, ...,  0.01349299,\n",
       "          0.03732628,  0.01961987],\n",
       "        [-0.03042426,  0.03763274,  0.02568983, ..., -0.04152735,\n",
       "          0.08620185,  0.04503268],\n",
       "        [-0.02015273,  0.02899581, -0.0149154 , ...,  0.05353099,\n",
       "          0.06611942, -0.00489779]], shape=(4, 384)),\n",
       " 'documents': ['Marie Curie was a pioneering physicist and chemist who conducted groundbreaking research on radioactivity. She was the first woman to win a Nobel Prize and the only person to win in two scientific fields.',\n",
       "  'Isaac Newton formulated the laws of motion and universal gravitation, laying the foundation for classical mechanics. His work remained unchallenged for centuries.',\n",
       "  \"Rosalind Franklin's work with X-ray diffraction was crucial in the discovery of DNA’s double-helix structure. Her research played a pivotal role in molecular biology.\",\n",
       "  'Alan Turing is considered the father of computer science. His conceptualization of the Turing Machine laid the groundwork for modern computing.'],\n",
       " 'uris': None,\n",
       " 'included': ['embeddings', 'documents', 'metadatas'],\n",
       " 'data': None,\n",
       " 'metadatas': [{'field': 'Chemistry'},\n",
       "  {'field': 'Classical Physics'},\n",
       "  {'field': 'Molecular Biology'},\n",
       "  {'field': 'Computer Science'}]}"
      ]
     },
     "execution_count": 82,
     "metadata": {},
     "output_type": "execute_result"
    }
   ],
   "source": [
    "# view documents\n",
    "chroma_store.get(include=['embeddings','documents', 'metadatas'])"
   ]
  }
 ],
 "metadata": {
  "language_info": {
   "name": "python"
  }
 },
 "nbformat": 4,
 "nbformat_minor": 5
}
