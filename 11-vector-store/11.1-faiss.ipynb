{
 "cells": [
  {
   "cell_type": "code",
   "execution_count": 14,
   "id": "331135c8",
   "metadata": {},
   "outputs": [],
   "source": [
    "from sentence_transformers import SentenceTransformer\n",
    "from langchain.schema import Document\n",
    "from langchain.vectorstores import  Chroma\n",
    "from langchain.vectorstores import FAISS\n",
    "from langchain.embeddings import HuggingFaceEmbeddings\n",
    "\n"
   ]
  },
  {
   "cell_type": "markdown",
   "id": "5e6eeae2",
   "metadata": {},
   "source": [
    "1. Select an embedding model"
   ]
  },
  {
   "cell_type": "code",
   "execution_count": null,
   "id": "3160c053",
   "metadata": {},
   "outputs": [],
   "source": [
    "\n",
    "# Initialize embedding model\n",
    "embedding_model = HuggingFaceEmbeddings(model_name=\"BAAI/bge-small-en-v1.5\")\n",
    "# embedding_model = SentenceTransformer(\"BAAI/bge-small-en-v1.5\")"
   ]
  },
  {
   "cell_type": "markdown",
   "id": "de7047ff",
   "metadata": {},
   "source": [
    "2. Create LangChain documents"
   ]
  },
  {
   "cell_type": "code",
   "execution_count": 36,
   "id": "e6025d3b",
   "metadata": {},
   "outputs": [],
   "source": [
    "# Create LangChain documents for famous scientists\n",
    "\n",
    "doc1 = Document(\n",
    "    page_content=\"Albert Einstein revolutionized modern physics with his theory of relativity. His work reshaped our understanding of space, time, and gravity.\",\n",
    "    metadata={\"field\": \"Theoretical Physics\"}\n",
    ")\n",
    "\n",
    "doc2 = Document(\n",
    "    page_content=\"Marie Curie was a pioneering physicist and chemist who conducted groundbreaking research on radioactivity. She was the first woman to win a Nobel Prize and the only person to win in two scientific fields.\",\n",
    "    metadata={\"field\": \"Chemistry\"}\n",
    ")\n",
    "\n",
    "doc3 = Document(\n",
    "    page_content=\"Isaac Newton formulated the laws of motion and universal gravitation, laying the foundation for classical mechanics. His work remained unchallenged for centuries.\",\n",
    "    metadata={\"field\": \"Classical Physics\"}\n",
    ")\n",
    "\n",
    "doc4 = Document(\n",
    "    page_content=\"Rosalind Franklin's work with X-ray diffraction was crucial in the discovery of DNA’s double-helix structure. Her research played a pivotal role in molecular biology.\",\n",
    "    metadata={\"field\": \"Molecular Biology\"}\n",
    ")\n",
    "\n",
    "doc5 = Document(\n",
    "    page_content=\"Alan Turing is considered the father of computer science. His conceptualization of the Turing Machine laid the groundwork for modern computing.\",\n",
    "    metadata={\"field\": \"Computer Science\"}\n",
    ")\n"
   ]
  },
  {
   "cell_type": "code",
   "execution_count": 6,
   "id": "6f6e0d7b",
   "metadata": {},
   "outputs": [],
   "source": [
    "docs = [doc1, doc2, doc3, doc4, doc5]"
   ]
  },
  {
   "cell_type": "markdown",
   "id": "8722cc35",
   "metadata": {},
   "source": [
    "3. Create Vector Store & Add documents"
   ]
  },
  {
   "cell_type": "code",
   "execution_count": 30,
   "id": "7946b004",
   "metadata": {},
   "outputs": [],
   "source": [
    "# vector_store_chroma = Chroma(embedding_function = embedding_model, persist_directory = \"chroma_db\",collection_name=\"sample\")\n",
    "\n",
    "# Create vector store from documents\n",
    "vector_store_faiss = FAISS.from_documents(docs, embedding_model)\n",
    "\n",
    "vector_store_chroma = Chroma.from_documents(docs, embedding_model, collection_name=\"Scientists\")\n"
   ]
  },
  {
   "cell_type": "markdown",
   "id": "e925babc",
   "metadata": {},
   "source": [
    "4. view documents"
   ]
  },
  {
   "cell_type": "code",
   "execution_count": 33,
   "id": "ab726da3",
   "metadata": {},
   "outputs": [
    {
     "data": {
      "text/plain": [
       "[Document(id='b9d0e6f7-8368-4af2-99d3-24375e7e2036', metadata={'field': 'Molecular Biology'}, page_content=\"Rosalind Franklin's work with X-ray diffraction was crucial in the discovery of DNA’s double-helix structure. Her research played a pivotal role in molecular biology.\"),\n",
       " Document(id='f7ce4cbf-dedb-4233-9292-0ed625689bf1', metadata={'field': 'Computer Science'}, page_content='Alan Turing is considered the father of computer science. His conceptualization of the Turing Machine laid the groundwork for modern computing.'),\n",
       " Document(id='075d2c3f-c26e-4764-9280-51b1a98b8126', metadata={'field': 'Theoretical Physics'}, page_content='Albert Einstein revolutionized modern physics with his theory of relativity. His work reshaped our understanding of space, time, and gravity.'),\n",
       " Document(id='f53476a8-db37-42de-b2aa-dd566ca81997', metadata={'field': 'Classical Physics'}, page_content='Isaac Newton formulated the laws of motion and universal gravitation, laying the foundation for classical mechanics. His work remained unchallenged for centuries.'),\n",
       " Document(id='1adcfe4d-4d75-4f97-be50-f5165aac2813', metadata={'field': 'Chemistry'}, page_content='Marie Curie was a pioneering physicist and chemist who conducted groundbreaking research on radioactivity. She was the first woman to win a Nobel Prize and the only person to win in two scientific fields.')]"
      ]
     },
     "execution_count": 33,
     "metadata": {},
     "output_type": "execute_result"
    }
   ],
   "source": [
    "vector_store_faiss.similarity_search(query=\"science\",k=5)"
   ]
  },
  {
   "cell_type": "code",
   "execution_count": 34,
   "id": "47069240",
   "metadata": {},
   "outputs": [
    {
     "data": {
      "text/plain": [
       "[Document(metadata={'field': 'Molecular Biology'}, page_content=\"Rosalind Franklin's work with X-ray diffraction was crucial in the discovery of DNA’s double-helix structure. Her research played a pivotal role in molecular biology.\"),\n",
       " Document(metadata={'field': 'Molecular Biology'}, page_content=\"Rosalind Franklin's work with X-ray diffraction was crucial in the discovery of DNA’s double-helix structure. Her research played a pivotal role in molecular biology.\"),\n",
       " Document(metadata={'field': 'Molecular Biology'}, page_content=\"Rosalind Franklin's work with X-ray diffraction was crucial in the discovery of DNA’s double-helix structure. Her research played a pivotal role in molecular biology.\"),\n",
       " Document(metadata={'field': 'Computer Science'}, page_content='Alan Turing is considered the father of computer science. His conceptualization of the Turing Machine laid the groundwork for modern computing.'),\n",
       " Document(metadata={'field': 'Computer Science'}, page_content='Alan Turing is considered the father of computer science. His conceptualization of the Turing Machine laid the groundwork for modern computing.')]"
      ]
     },
     "execution_count": 34,
     "metadata": {},
     "output_type": "execute_result"
    }
   ],
   "source": [
    "vector_store_chroma.similarity_search(query=\"science\",k=5)"
   ]
  },
  {
   "cell_type": "markdown",
   "id": "476c1ab7",
   "metadata": {},
   "source": [
    "5. search documents\n"
   ]
  },
  {
   "cell_type": "code",
   "execution_count": 45,
   "id": "9790a134",
   "metadata": {},
   "outputs": [
    {
     "name": "stdout",
     "output_type": "stream",
     "text": [
      "FAISS Search\n",
      "Rosalind Franklin's work with X-ray diffraction was crucial in the discovery of DNA’s double-helix structure. Her research played a pivotal role in molecular biology.\n",
      "Marie Curie was a pioneering physicist and chemist who conducted groundbreaking research on radioactivity. She was the first woman to win a Nobel Prize and the only person to win in two scientific fields.\n",
      "**************************************************\n",
      "Chroma Search\n",
      "Rosalind Franklin's work with X-ray diffraction was crucial in the discovery of DNA’s double-helix structure. Her research played a pivotal role in molecular biology.\n",
      "Rosalind Franklin's work with X-ray diffraction was crucial in the discovery of DNA’s double-helix structure. Her research played a pivotal role in molecular biology.\n"
     ]
    }
   ],
   "source": [
    "query = \"radioactivity research\"\n",
    "results_faiss = vector_store_faiss.similarity_search(query, k=2)\n",
    "results_chroma = vector_store_chroma.similarity_search(query, k=2)\n",
    "\n",
    "print(\"FAISS Search\")\n",
    "for doc in results_faiss:\n",
    "    print(doc.page_content)\n",
    "\n",
    "print(\"*\"*50)\n",
    "\n",
    "print(\"Chroma Search\")\n",
    "for doc in results_chroma:\n",
    "    print(doc.page_content)"
   ]
  },
  {
   "cell_type": "markdown",
   "id": "f3654093",
   "metadata": {},
   "source": [
    "6. search with similarity score\n"
   ]
  },
  {
   "cell_type": "code",
   "execution_count": 50,
   "id": "27667a97",
   "metadata": {},
   "outputs": [
    {
     "name": "stdout",
     "output_type": "stream",
     "text": [
      "0.8058425\n",
      "0.87397546\n",
      "0.430183290383506\n",
      "0.430183290383506\n"
     ]
    }
   ],
   "source": [
    "score_faiss = vector_store_faiss.similarity_search_with_score(query, k=2)\n",
    "score_chroma = vector_store_chroma.similarity_search_with_relevance_scores(query, k=2)\n",
    "\n",
    "for doc, score in score_faiss:\n",
    "    print(score)\n",
    "\n",
    "for score in score_chroma:\n",
    "    print(score[-1])"
   ]
  },
  {
   "cell_type": "markdown",
   "id": "b3a169af",
   "metadata": {},
   "source": [
    "8. meta-data filtering\n"
   ]
  },
  {
   "cell_type": "code",
   "execution_count": 52,
   "id": "fbefec77",
   "metadata": {},
   "outputs": [
    {
     "name": "stdout",
     "output_type": "stream",
     "text": [
      "Filtered by field='Chemistry':\n",
      "Marie Curie was a pioneering physicist and chemist who conducted groundbreaking research on radioactivity. She was the first woman to win a Nobel Prize and the only person to win in two scientific fields.\n",
      "Marie Curie was a pioneering physicist and chemist who conducted groundbreaking research on radioactivity. She was the first woman to win a Nobel Prize and the only person to win in two scientific fields.\n"
     ]
    }
   ],
   "source": [
    "# Filter by metadata: only Chemistry field\n",
    "filtered_docs = vector_store_chroma.similarity_search(query=\"research\", k=2, filter={\"field\": \"Chemistry\"})\n",
    "print(\"Filtered by field='Chemistry':\")\n",
    "for doc in filtered_docs:\n",
    "    print(doc.page_content)\n"
   ]
  },
  {
   "cell_type": "markdown",
   "id": "0c9a8f57",
   "metadata": {},
   "source": [
    "9. update documents & view documents\n"
   ]
  },
  {
   "cell_type": "code",
   "execution_count": 53,
   "id": "9e5cc752",
   "metadata": {},
   "outputs": [
    {
     "name": "stdout",
     "output_type": "stream",
     "text": [
      "After update:\n",
      "Alan Turing is considered the father of computer science. His conceptualization of the Turing Machine laid the groundwork for modern computing.\n",
      "Alan Turing is considered the father of computer science. His conceptualization of the Turing Machine laid the groundwork for modern computing.\n",
      "Alan Turing is considered the father of computer science. His conceptualization of the Turing Machine laid the groundwork for modern computing.\n",
      "Alan Turing laid the foundation of modern AI and computer science with his work during WWII.\n",
      "Albert Einstein revolutionized modern physics with his theory of relativity. His work reshaped our understanding of space, time, and gravity.\n"
     ]
    }
   ],
   "source": [
    "# Step 1: Delete the old one\n",
    "vector_store_chroma._collection.delete(where={\"scientist\": \"Turing\"})\n",
    "\n",
    "# Step 2: Add the updated one\n",
    "updated_doc = Document(\n",
    "    page_content=\"Alan Turing laid the foundation of modern AI and computer science with his work during WWII.\",\n",
    "    metadata={\"field\": \"Computer Science\", \"scientist\": \"Turing\"}\n",
    ")\n",
    "vector_store_chroma.add_documents([updated_doc])\n",
    "\n",
    "# Step 3: View all docs again\n",
    "print(\"After update:\")\n",
    "for doc in vector_store_chroma.similarity_search(\"computer\", k=5):\n",
    "    print(doc.page_content)\n"
   ]
  },
  {
   "cell_type": "markdown",
   "id": "5a405c34",
   "metadata": {},
   "source": [
    "10. delete document & view documents\n"
   ]
  },
  {
   "cell_type": "code",
   "execution_count": 54,
   "id": "2889c157",
   "metadata": {},
   "outputs": [
    {
     "name": "stdout",
     "output_type": "stream",
     "text": [
      "After deletion:\n",
      "Albert Einstein revolutionized modern physics with his theory of relativity. His work reshaped our understanding of space, time, and gravity.\n",
      "Albert Einstein revolutionized modern physics with his theory of relativity. His work reshaped our understanding of space, time, and gravity.\n",
      "Albert Einstein revolutionized modern physics with his theory of relativity. His work reshaped our understanding of space, time, and gravity.\n",
      "Isaac Newton formulated the laws of motion and universal gravitation, laying the foundation for classical mechanics. His work remained unchallenged for centuries.\n",
      "Isaac Newton formulated the laws of motion and universal gravitation, laying the foundation for classical mechanics. His work remained unchallenged for centuries.\n"
     ]
    }
   ],
   "source": [
    "# Delete Newton\n",
    "vector_store_chroma._collection.delete(where={\"scientist\": \"Newton\"})\n",
    "\n",
    "# View all after deletion\n",
    "print(\"After deletion:\")\n",
    "for doc in vector_store_chroma.similarity_search(\"physics\", k=5):\n",
    "    print(doc.page_content)\n"
   ]
  }
 ],
 "metadata": {
  "kernelspec": {
   "display_name": "venv",
   "language": "python",
   "name": "python3"
  },
  "language_info": {
   "codemirror_mode": {
    "name": "ipython",
    "version": 3
   },
   "file_extension": ".py",
   "mimetype": "text/x-python",
   "name": "python",
   "nbconvert_exporter": "python",
   "pygments_lexer": "ipython3",
   "version": "3.12.0"
  }
 },
 "nbformat": 4,
 "nbformat_minor": 5
}
